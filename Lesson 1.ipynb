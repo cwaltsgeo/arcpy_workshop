{
 "cells": [
  {
   "cell_type": "markdown",
   "metadata": {},
   "source": [
    "## Lesson 1: An Overview of Python"
   ]
  },
  {
   "cell_type": "markdown",
   "metadata": {
    "heading_collapsed": true
   },
   "source": [
    "#### Exercise 1: Strings Lists and Dictionaries"
   ]
  },
  {
   "cell_type": "markdown",
   "metadata": {
    "hidden": true
   },
   "source": [
    "In this exercise you will work with creating different strings, lists and dictionary variables.\n",
    "1. Create a string variable  ```course = \"python\"```\n",
    "2. Create an integer variable `x = 3`\n",
    "3. Convert a float variable from the integer variable created above `y = float(x)`\n",
    "4. `print(type(y))`\n",
    "5. Create a list and store the above variables in it. `python_list = [course, x, y]`\n",
    "6. `print(python_list)`\n",
    "7. Create another list by multiplying the above list by 2 `python_list_2 = python_list * 2`\n",
    "8. `print(python_list_2)`\n",
    "9. Create a python dictionaty that stores the above two lists with a key of A & B. `python_dic = {\"A\":python_list, \"B\":python_list_2}`\n",
    "10. `print(python_dic)`"
   ]
  },
  {
   "cell_type": "code",
   "execution_count": null,
   "metadata": {
    "hidden": true
   },
   "outputs": [],
   "source": [
    "# Enter Solution"
   ]
  },
  {
   "cell_type": "markdown",
   "metadata": {
    "hidden": true
   },
   "source": [
    "<details>\n",
    "<summary> <b> Reveal Answer </b> </summary>\n",
    "\n",
    "    course = \"python\"\n",
    "\n",
    "    x = 3\n",
    "\n",
    "    y = float(x)\n",
    "\n",
    "    print(type(y))\n",
    "\n",
    "    python_list = [course, x, y]\n",
    "\n",
    "\n",
    "    print(python_list)\n",
    "\n",
    "    python_list_2 = python_list * 2\n",
    "\n",
    "    print(python_list_2)\n",
    "\n",
    "    python_dic = {\"A\":python_list, \"B\":python_list_2}\n",
    "\n",
    "    print(python_dic)\n",
    "</details>"
   ]
  },
  {
   "cell_type": "markdown",
   "metadata": {
    "heading_collapsed": true
   },
   "source": [
    "#### Exercise 2: Working with Lists and Dictionaries"
   ]
  },
  {
   "cell_type": "markdown",
   "metadata": {
    "hidden": true
   },
   "source": [
    "In this exercise you will learn how to work with list indexes and dictionary keys. You will also learn how to append a list and update a dictionary\n",
    "\n",
    "1. Work with the variable created above **python_list_2** and replace the second \"python\" stored at index 3 by \"JavaScript\". `python_list_2[3] = \"JavaScript\"`\n",
    "2. Replace the elements at index 4 and index 5 with their product.<br>`python_list_2[4] = python_list_2[4] * python_list_2[5]`<br>`python_list_2[5] = python_list_2[5] * python_list_2[5]`\n",
    "3. Append \"C++\" to **python_list_2**. `python_list_2.append(\"C++\")`\n",
    "4. print(python_list_2)\n",
    "5. In a new cell you will now update the dictionary created in exercise 1 with the new python list at **key=\"B\"**. `python_dic[\"B\"] = python_list_2` \n",
    "6. `print(python_dic)`\n",
    "7. Update **python_dic** with **key=\"C\"** and list **[\"Test String\", 1]** `python_dic.update({\"C\":[\"Test String\", 1]})`\n",
    "8. `print(python_dic)`"
   ]
  },
  {
   "cell_type": "code",
   "execution_count": 1,
   "metadata": {
    "hidden": true
   },
   "outputs": [],
   "source": [
    "# Enter Solution"
   ]
  },
  {
   "cell_type": "markdown",
   "metadata": {
    "hidden": true
   },
   "source": [
    "<details>\n",
    "<summary> <b> Reveal Answer </b> </summary>\n",
    "\n",
    "    python_list_2[3] = \"JavaScript\"\n",
    "    python_list_2[4] = python_list_2[4] * python_list_2[4]\n",
    "    python_list_2[5] = python_list_2[5] * python_list_2[5]\n",
    "    python_list_2.append(\"C++\")\n",
    "    print(python_list_2)\n",
    "</details>"
   ]
  },
  {
   "cell_type": "markdown",
   "metadata": {
    "hidden": true
   },
   "source": [
    "<details>\n",
    "<summary> <b> Reveal Answer </b> </summary>\n",
    "\n",
    "    python_dic[\"B\"] = python_list_2\n",
    "    print(python_dic)\n",
    "    python_dic.update({\"C\":[\"Test String\", 1]})\n",
    "    print(python_dic)\n",
    "</details>"
   ]
  },
  {
   "cell_type": "markdown",
   "metadata": {
    "heading_collapsed": true
   },
   "source": [
    "#### Exercise 3: Working with integers"
   ]
  },
  {
   "cell_type": "markdown",
   "metadata": {
    "hidden": true
   },
   "source": [
    "Given two ```integer``` numbers return their product only if the product is equal to or lower than 1000, else return their sum. Follow the below steps:\n",
    "\n",
    "1. Define a function with two parameters on for each number as inputs ```def multiplication_or_sum(num1, num2):```\n",
    "2. On the next line create a product variable ```product = num1 * num2```\n",
    "3. Write an if statement to check if the product is less than or equal to a 1000 ```if product <= 1000:```\n",
    "4. Under the if statement create a variable ```answer = product```\n",
    "5. Exit the if statement and type ```else:```, under else create a variable for the sum answer ```answer = num1 + num2```\n",
    "6. Exit the else statement and insert ```return(answer)```\n",
    "7. Create a result variable ```result = multiplication_or_sum(20, 30)```\n",
    "8. ```print(result)```"
   ]
  },
  {
   "cell_type": "code",
   "execution_count": null,
   "metadata": {
    "hidden": true
   },
   "outputs": [],
   "source": [
    "# Enter Solution"
   ]
  },
  {
   "cell_type": "markdown",
   "metadata": {
    "hidden": true
   },
   "source": [
    "<details>\n",
    "<summary> <b> Reveal Answer </b> </summary>\n",
    "\n",
    "    def multiplication_or_sum(num1, num2):\n",
    "        product = num1 * num2\n",
    "        if product <= 1000:\n",
    "            answer = product\n",
    "        else:\n",
    "            answer = num1 + num2\n",
    "        return(answer)\n",
    "\n",
    "    result = multiplication_or_sum(20, 30)\n",
    "\n",
    "    print(result)\n",
    "</details>"
   ]
  }
 ],
 "metadata": {
  "kernelspec": {
   "display_name": "ArcGISPro",
   "language": "Python",
   "name": "python3"
  },
  "language_info": {
   "file_extension": ".py",
   "name": "python",
   "version": "3"
  }
 },
 "nbformat": 4,
 "nbformat_minor": 2
}
