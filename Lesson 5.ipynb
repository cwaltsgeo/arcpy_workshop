{
 "cells": [
  {
   "cell_type": "markdown",
   "metadata": {},
   "source": [
    "## Lesson 5: Building Reproducible Workflows in ArcGIS Pro"
   ]
  },
  {
   "cell_type": "markdown",
   "metadata": {
    "heading_collapsed": true
   },
   "source": [
    "### ArcGIS Notebooks\n",
    "Over the course of this workshop, we have been building the foundations of a reproducible ArcGIS Notebook. We've taken efforts to automate our analysis by using Arcpy, standardized our working environment, and then documented and discussed our results in ArcGIS Notebooks. These steps were performed over the duration of the workshop, but they can be summarized and explored in complete detail below:"
   ]
  },
  {
   "cell_type": "markdown",
   "metadata": {
    "heading_collapsed": true,
    "hidden": true
   },
   "source": [
    "#### Setup Script"
   ]
  },
  {
   "cell_type": "code",
   "execution_count": 131,
   "metadata": {
    "hidden": true,
    "scrolled": true
   },
   "outputs": [
    {
     "name": "stdout",
     "output_type": "stream",
     "text": [
      "Creating Kangaroo_Island_2019 Mosaic Dataset @ C:\\Users\\col12422\\Documents\\ArcGIS\\Projects\\Arcpy Workshop\\Arcpy Workshop.gdb\\Kangaroo_Island_2019\n",
      "Adding Rasters to Kangaroo_Island_2019 Mosaic Dataset\n",
      "Clipping Kangaroo_Island_2019 Mosaic Dataset to Kangaroo_Island Feature Class\n",
      "Successfully Created Kangaroo_Island_2019_Clip\n",
      "\n",
      "Creating Kangaroo_Island_2020 Mosaic Dataset @ C:\\Users\\col12422\\Documents\\ArcGIS\\Projects\\Arcpy Workshop\\Arcpy Workshop.gdb\\Kangaroo_Island_2020\n",
      "Adding Rasters to Kangaroo_Island_2020 Mosaic Dataset\n",
      "Clipping Kangaroo_Island_2020 Mosaic Dataset to Kangaroo_Island Feature Class\n",
      "Successfully Created Kangaroo_Island_2020_Clip\n",
      "\n",
      "Setup Completed.\n"
     ]
    }
   ],
   "source": [
    "import os\n",
    "import arcpy\n",
    "arcpy.env.overwriteOutput = True\n",
    "arcpy.env.addOutputsToMap = False\n",
    "\n",
    "WORKSPACE = arcpy.env.workspace\n",
    "YEARS = ['2019', '2020']\n",
    "RASTER_PREFIX = 'Kangaroo_Island'\n",
    "MASK = 'Kangaroo_Island'\n",
    "\n",
    "for year in YEARS:\n",
    "    MOSAIC_DATASET_NAME = '{}_{}'.format(RASTER_PREFIX, year)\n",
    "    MOSAIC_DATASET_PATH = os.path.join(WORKSPACE, MOSAIC_DATASET_NAME)\n",
    "    \n",
    "    print(\"Creating {0} Mosaic Dataset @ {1}\".format(MOSAIC_DATASET_NAME, MOSAIC_DATASET_PATH))\n",
    "\n",
    "    INPUT_RASTER_A = os.path.join(WORKSPACE, MOSAIC_DATASET_NAME + 'A')\n",
    "    INPUT_RASTER_B = os.path.join(WORKSPACE, MOSAIC_DATASET_NAME + 'B') \n",
    "    \n",
    "    arcpy.management.CreateMosaicDataset(\n",
    "        in_workspace=WORKSPACE,\n",
    "        in_mosaicdataset_name=MOSAIC_DATASET_NAME,\n",
    "        coordinate_system='PROJCS[\"WGS_1984_UTM_Zone_53S\",GEOGCS[\"GCS_WGS_1984\",DATUM[\"D_WGS_1984\",SPHEROID[\"WGS_1984\",6378137.0,298.257223563]],PRIMEM[\"Greenwich\",0.0],UNIT[\"Degree\",0.0174532925199433]],PROJECTION[\"Transverse_Mercator\"],PARAMETER[\"False_Easting\",500000.0],PARAMETER[\"False_Northing\",10000000.0],PARAMETER[\"Central_Meridian\",135.0],PARAMETER[\"Scale_Factor\",0.9996],PARAMETER[\"Latitude_Of_Origin\",0.0],UNIT[\"Meter\",1.0]]',\n",
    "        num_bands=None,\n",
    "        pixel_type=\"\",\n",
    "        product_definition=\"NONE\",\n",
    "        product_band_definitions=None\n",
    "    )\n",
    "    \n",
    "    print(\"Adding Rasters to {0} Mosaic Dataset\".format(MOSAIC_DATASET_NAME))\n",
    "    \n",
    "    arcpy.management.AddRastersToMosaicDataset(\n",
    "        in_mosaic_dataset=MOSAIC_DATASET_NAME,\n",
    "        raster_type=\"Raster Dataset\",\n",
    "        input_path=r\"'{0}';'{1}'\".format(INPUT_RASTER_A, INPUT_RASTER_B),\n",
    "        update_cellsize_ranges=\"UPDATE_CELL_SIZES\",\n",
    "        update_boundary=\"UPDATE_BOUNDARY\",\n",
    "        update_overviews=\"NO_OVERVIEWS\",\n",
    "        maximum_pyramid_levels=None,\n",
    "        maximum_cell_size=0,\n",
    "        minimum_dimension=1500,\n",
    "        spatial_reference=None,\n",
    "        filter=\"\",\n",
    "        sub_folder=\"SUBFOLDERS\",\n",
    "        duplicate_items_action=\"ALLOW_DUPLICATES\",\n",
    "        build_pyramids=\"BUILD_PYRAMIDS\",\n",
    "        calculate_statistics=\"CALCULATE_STATISTICS\",\n",
    "        build_thumbnails=\"NO_THUMBNAILS\",\n",
    "        operation_description=\"\",\n",
    "        force_spatial_reference=\"NO_FORCE_SPATIAL_REFERENCE\",\n",
    "        estimate_statistics=\"ESTIMATE_STATISTICS\",\n",
    "        aux_inputs=None,\n",
    "        enable_pixel_cache=\"NO_PIXEL_CACHE\",\n",
    "    )\n",
    "    \n",
    "    print(\"Clipping {0} Mosaic Dataset to {1} Feature Class\".format(MOSAIC_DATASET_NAME, MASK))\n",
    "    \n",
    "    arcpy.management.Clip(\n",
    "        in_raster=MOSAIC_DATASET_NAME,\n",
    "        rectangle=\"638325.846713538 6004851.30906547 783138.033724911 6061564.08465202\",\n",
    "        out_raster=MOSAIC_DATASET_PATH + \"_Clip\",\n",
    "        in_template_dataset=MASK,\n",
    "        nodata_value=\"-1\",\n",
    "        clipping_geometry=\"ClippingGeometry\",\n",
    "        maintain_clipping_extent=\"MAINTAIN_EXTENT\"\n",
    "    )\n",
    "    print(\"Successfully Created {0}\".format(MOSAIC_DATASET_NAME + \"_Clip\"))\n",
    "    print()\n",
    "print(\"Setup Completed.\")"
   ]
  },
  {
   "cell_type": "markdown",
   "metadata": {
    "heading_collapsed": true,
    "hidden": true
   },
   "source": [
    "#### Analysis"
   ]
  },
  {
   "cell_type": "code",
   "execution_count": 132,
   "metadata": {
    "hidden": true
   },
   "outputs": [],
   "source": [
    "import numpy\n",
    "numpy.seterr(invalid='ignore')\n",
    "\n",
    "arcpy.env.addOutputsToMap = True"
   ]
  },
  {
   "cell_type": "code",
   "execution_count": 133,
   "metadata": {
    "hidden": true
   },
   "outputs": [],
   "source": [
    "def nbr(nir, swir):\n",
    "    nbr_index = numpy.nan_to_num(numpy.divide((nir - swir), (nir + swir)))\n",
    "    return nbr_index"
   ]
  },
  {
   "cell_type": "code",
   "execution_count": 134,
   "metadata": {
    "hidden": true
   },
   "outputs": [],
   "source": [
    "def delta_nbr(nbr_base, nbr_post):\n",
    "    d_nbr = numpy.subtract(nbr_base, nbr_post)\n",
    "    return d_nbr"
   ]
  },
  {
   "cell_type": "code",
   "execution_count": 135,
   "metadata": {
    "hidden": true
   },
   "outputs": [],
   "source": [
    "def kangaroo_nbr_analysis(raster_base, raster_post):\n",
    "    nir_base = arcpy.RasterToNumPyArray(os.path.join(raster_base, \"Band_8\"), nodata_to_value=0).astype(float)\n",
    "    swir_base =  arcpy.RasterToNumPyArray(os.path.join(raster_base, \"Band_10\"), nodata_to_value=0).astype(float)\n",
    "\n",
    "    nir_post = arcpy.RasterToNumPyArray(os.path.join(raster_post, \"Band_8\"), nodata_to_value=0).astype(float)\n",
    "    swir_post = arcpy.RasterToNumPyArray(os.path.join(raster_post, \"Band_10\"), nodata_to_value=0).astype(float)\n",
    "\n",
    "    return delta_nbr(nbr(nir_base, swir_base), nbr(nir_post, swir_post))"
   ]
  },
  {
   "cell_type": "markdown",
   "metadata": {
    "heading_collapsed": true,
    "hidden": true
   },
   "source": [
    "#### Execution"
   ]
  },
  {
   "cell_type": "code",
   "execution_count": 136,
   "metadata": {
    "hidden": true
   },
   "outputs": [],
   "source": [
    "kangaroo_2019 = arcpy.Raster(\"Kangaroo_Island_2019_Clip\")\n",
    "lower_left = arcpy.Point(kangaroo_2019.extent.XMin,kangaroo_2019.extent.YMin)\n",
    "cell_size = kangaroo_2019.meanCellWidth\n",
    "\n",
    "kangaroo_delta_nbr = kangaroo_nbr_analysis(\"Kangaroo_Island_2019_Clip\", \"Kangaroo_Island_2020_Clip\")\n",
    "\n",
    "Delta_NBR = arcpy.NumPyArrayToRaster(kangaroo_delta_nbr, lower_left, cell_size, value_to_nodata = 0)\n",
    "Delta_NBR.save(\"Kangaroo_Island_NBR\")"
   ]
  },
  {
   "cell_type": "markdown",
   "metadata": {
    "heading_collapsed": true,
    "hidden": true
   },
   "source": [
    "#### Discussion"
   ]
  },
  {
   "cell_type": "markdown",
   "metadata": {
    "hidden": true
   },
   "source": [
    "The Normalized Burn Ratio (**NBR**) is an index that uses the differences in the way healthy green vegetation and burnt vegetation reflect light to find burnt area. The equation is defined below:\n",
    "$$NBR =\\dfrac{nir-swir}{nir+swir}$$ <br>\n",
    "We'll leverage the NumPy library to perform matrix artithmetic to calculate **NBR** for Kangaroo Island. <br><br>\n",
    "We can create a function to perform the subtraction, addition, and division of our arrays as seen here:"
   ]
  },
  {
   "cell_type": "markdown",
   "metadata": {
    "hidden": true
   },
   "source": [
    "$$ \n",
    "NBR_{2019} =\n",
    "\\frac{\\begin{bmatrix}\n",
    "0.43 & -1.34 \\\\\n",
    "1.33 & 0.59 & \\cdots\n",
    "\\end{bmatrix}\n",
    "-\n",
    "\\begin{bmatrix}\n",
    "-3.21 & 0.12 \\\\\n",
    "1.33 & -4.32 & \\cdots\n",
    "\\end{bmatrix}}{\\begin{bmatrix}\n",
    "0.43 & -1.34 \\\\\n",
    "1.33 & 0.59 & \\cdots\n",
    "\\end{bmatrix}\n",
    "+\n",
    "\\begin{bmatrix}\n",
    "-3.21 & 0.12 \\\\\n",
    "1.33 & -4.32 & \\cdots\n",
    "\\end{bmatrix}}\n",
    "$$"
   ]
  },
  {
   "cell_type": "markdown",
   "metadata": {
    "hidden": true
   },
   "source": [
    "$$ \n",
    "NBR_{2020} =\n",
    "\\frac{\\begin{bmatrix}\n",
    "3.53 & 0.32 \\\\\n",
    "4.55 & 3.76 & \\cdots\n",
    "\\end{bmatrix}\n",
    "-\n",
    "\\begin{bmatrix}\n",
    "6.31 & 10.99 \\\\\n",
    "44.73 & 8.39 & \\cdots\n",
    "\\end{bmatrix}}{\\begin{bmatrix}\n",
    "3.53 & 0.32 \\\\\n",
    "4.55 & 3.76 & \\cdots\n",
    "\\end{bmatrix}\n",
    "+\n",
    "\\begin{bmatrix}\n",
    "6.31 & 10.99 \\\\\n",
    "44.73 & 8.39 & \\cdots\n",
    "\\end{bmatrix}}\n",
    "$$"
   ]
  },
  {
   "cell_type": "code",
   "execution_count": null,
   "metadata": {
    "hidden": true
   },
   "outputs": [],
   "source": [
    "def nbr(nir, swir):\n",
    "    nbr_index = numpy.nan_to_num(numpy.divide((nir - swir), (nir + swir)))\n",
    "    return nbr_index"
   ]
  },
  {
   "cell_type": "markdown",
   "metadata": {
    "hidden": true
   },
   "source": [
    "With a function for calculating the **NBR** for our arrays, we now have a normalized way of comparing values from one year to another. We can find the delta from **NBR<sub>2019</sub>**, before the fire, to **NBR<sub>2020</sub>**, after the fire, to get a comparison of the wildfire damage! We'll use NumPy to subtract the **NBR<sub>2019</sub>** array from the **NBR<sub>2020</sub>** array to get our **NBR<sub>&Delta;</sub>** array."
   ]
  },
  {
   "cell_type": "markdown",
   "metadata": {
    "hidden": true
   },
   "source": [
    "$$ \n",
    "NBR_{\\Delta} = NBR_{2019} - NBR_{2020}\n",
    "$$"
   ]
  },
  {
   "cell_type": "code",
   "execution_count": null,
   "metadata": {
    "hidden": true
   },
   "outputs": [],
   "source": [
    "def delta_nbr(nbr_base, nbr_post):\n",
    "    d_nbr = numpy.subtract(nbr_base, nbr_post)\n",
    "    return d_nbr"
   ]
  },
  {
   "cell_type": "markdown",
   "metadata": {
    "hidden": true
   },
   "source": [
    "With the ```nbr``` and ```delta_nbr``` functions defined, it's now possible to repeatably calculate the **NBR<sub>&Delta;</sub>** for any given arrays. But to make our functions easy to use, let's also write out another function that accepts the base and post-fire rasters for our analysis."
   ]
  },
  {
   "cell_type": "code",
   "execution_count": null,
   "metadata": {
    "hidden": true
   },
   "outputs": [],
   "source": [
    "def kangaroo_fire_analysis(raster_base, raster_post):\n",
    "    nir_base = arcpy.RasterToNumPyArray(os.path.join(raster_base, \"Band_8\"), nodata_to_value=0).astype(float)\n",
    "    swir_base =  arcpy.RasterToNumPyArray(os.path.join(raster_base, \"Band_10\"), nodata_to_value=0).astype(float)\n",
    "    \n",
    "    nir_post = arcpy.RasterToNumPyArray(os.path.join(raster_post, \"Band_8\"), nodata_to_value=0).astype(float)\n",
    "    swir_post = arcpy.RasterToNumPyArray(os.path.join(raster_post, \"Band_10\"), nodata_to_value=0).astype(float)\n",
    "    \n",
    "    return delta_nbr(nbr(nir_base, swir_base), nbr(nir_post, swir_post))"
   ]
  },
  {
   "cell_type": "markdown",
   "metadata": {
    "heading_collapsed": true
   },
   "source": [
    "### ArcGIS ModelBuilder\n",
    "ArcGIS ModelBuilder is another way to create reproducible workflows in ArcGIS Pro, without the need of writing any code. It's a visual coding tool used for stringing together geoprocessing tools. And when configured properly with parameters, it can be saved as a custom geoprocessing tool and used in ArcGIS Pro's GUI. We'll build a ModelBuilder that automates the image processing section of our previous workflow:"
   ]
  },
  {
   "attachments": {
    "arcpy_modelbuilder.png": {
     "image/png": "[encoded data removed]"
    }
   },
   "cell_type": "markdown",
   "metadata": {
    "hidden": true
   },
   "source": [
    "![arcpy_modelbuilder.png](attachment:arcpy_modelbuilder.png)"
   ]
  },
  {
   "cell_type": "markdown",
   "metadata": {
    "hidden": true
   },
   "source": [
    "Open ModelBuilder in ArcGIS Pro and replicate the model above."
   ]
  },
  {
   "cell_type": "markdown",
   "metadata": {
    "hidden": true
   },
   "source": [
    "1. Drag & Drop the Create Mosaic Dataset tool into the ModelBuilder pane. <br>\n",
    "- Right click the tool, then navigate to Create Variable > From Parameter > Output Location\n",
    "    - Double Click the variable and set the location to the arcpy_workshop.gdb file geodatabase\n",
    "    - Right Click the variable and select Parameter\n",
    "- Right click the tool, then navigate to Create Variable > From Parameter > Mosaic Dataset Name\n",
    "    - Double Click the variable and set the name to MB_Mosaic\n",
    "    - Right Click the variable and select Parameter\n",
    "- Right click the tool, then navigate to Create Variable > From Parameter > Coordinate System\n",
    "    - Double Click the variable and set the coordinate system to WGS_1984_UTM_Zone_53S\n",
    "    - Right Click the variable and select Parameter"
   ]
  },
  {
   "cell_type": "markdown",
   "metadata": {
    "hidden": true
   },
   "source": [
    "2. Drag & Drop the Add Raster to Mosaic Dataset tool into the ModelBuilder pane. <br>\n",
    "- Right click the tool, then navigate to Create Variable > From Parameter > Input Data\n",
    "    - Double Click the variable and set the input data to the Kangaroo_Island_2019A & Kangaroo_Island_2019B rasters located in the Arcpy Workshop.gdb file geodatabase\n",
    "    - Right Click the variable and select Parameter\n",
    "- Drag the Output Mosaic Dataset to the Add Rasters to Mosaic Dataset to connect the output to the input. Set it as the Mosaic Dataset."
   ]
  },
  {
   "cell_type": "markdown",
   "metadata": {
    "hidden": true
   },
   "source": [
    "3. Drag & Drop the Clip Raster tool into the ModelBuilder pane. <br>\n",
    "- Right click the tool, then navigate to Create Variable > From Parameter > Output Extent\n",
    "    - Double Click the variable and set the input data to the Kangaroo_Island feature layer located in the arcpy_workshop.gdb file geodatabase\n",
    "    - Right Click the variable and select Parameter\n",
    "- Drag the Updated Mosaic Dataset output to the Clip Raster tool to connect the output to the input. Set it as the Input Raster.\n",
    "- Right Click the Output raster variable and select Parameter"
   ]
  },
  {
   "cell_type": "markdown",
   "metadata": {
    "hidden": true
   },
   "source": [
    "Validate, Run, & Save the tool as ```ModelBuilder_Clip```"
   ]
  },
  {
   "cell_type": "markdown",
   "metadata": {
    "hidden": true
   },
   "source": [
    "Now open the tool from the Catalog Pane in ArcGIS Pro by navigating to Toolboxes > arcpy_workshop.atbx > ModelBuilder_Clip. Double click to open the tool as a geoprocessing tool."
   ]
  }
 ],
 "metadata": {
  "kernelspec": {
   "display_name": "ArcGISPro",
   "language": "Python",
   "name": "python3"
  },
  "language_info": {
   "file_extension": ".py",
   "name": "python",
   "version": "3"
  }
 },
 "nbformat": 4,
 "nbformat_minor": 2
}
