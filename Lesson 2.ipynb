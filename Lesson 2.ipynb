{
 "cells": [
  {
   "cell_type": "markdown",
   "metadata": {},
   "source": [
    "## Lesson 2: Introduction to ArcPy"
   ]
  },
  {
   "cell_type": "markdown",
   "metadata": {
    "heading_collapsed": true
   },
   "source": [
    "#### Exercise 1: Using ArcPy and Listing Feature Class Fields"
   ]
  },
  {
   "cell_type": "markdown",
   "metadata": {
    "hidden": true
   },
   "source": [
    "In this exercise you will learn how to search a file geodatabase for a feature class, then return the field names of that file geodatabase.\n",
    "1. ```import arcpy```\n",
    "2. Set the Environment Workspace to the ArcPy_workshop.gdb file geodatabase ```arcpy.env.workspace = r\"<replace with your geodatabase path>\"```\n",
    "3. Create a featureclasses variable with a list of all the feature classes within the ArcPy_workshop.gdb file geodatabase ```featureclasses = arcpy.ListFeatureClasses()\"```\n",
    "4. Create a **for loop** that loops the feature classes variable created above. ```for fc in featureclasses:```\n",
    "    - Check **if** the current feature class is Kangaroo_Island ```fc == 'Kangaroo_Island'```\n",
    "    - Create a variable to store the field information of the Kangaroo_Island feature class ```kangaroo_fields = ArcPy.ListFields(fc)```\n",
    "    - Create a **for loop** that loops the fields variable created above. ```for field in kangaroo_fields:```\n",
    "        - Print the field names within kangaroo_fields. ```print(field.name)```"
   ]
  },
  {
   "cell_type": "code",
   "execution_count": null,
   "metadata": {
    "hidden": true
   },
   "outputs": [],
   "source": [
    "# Enter Solution"
   ]
  },
  {
   "cell_type": "markdown",
   "metadata": {
    "hidden": true
   },
   "source": [
    "<details>\n",
    "<summary> <b> Reveal Answer </b> </summary>\n",
    "\n",
    "    import arcpy\n",
    "    #arcpy.env.workspace = r\"<replace with your geodatabase path>\"\n",
    "    \n",
    "    featureclasses = arcpy.ListFeatureClasses()\n",
    "    for fc in featureclasses:\n",
    "        if fc == 'Kangaroo_Island':\n",
    "            print(fc)\n",
    "            kangaroo_fields = arcpy.ListFields(fc)\n",
    "            for field in kangaroo_fields:\n",
    "                print(field.name)\n",
    "</details>"
   ]
  },
  {
   "cell_type": "markdown",
   "metadata": {
    "heading_collapsed": true
   },
   "source": [
    "#### Exercise 2: Using ArcPy and Listing Raster Datasets"
   ]
  },
  {
   "cell_type": "markdown",
   "metadata": {
    "hidden": true
   },
   "source": [
    "**arcpy.ListDatasets({wild_card}, {dataset_type})** - ArcPy's method for listing datasets. Use the wild card operator to limit the results returned. The wild card operator represents zero or more characters to filter patterns within text. For example, Te* finds Texas & Tennessee."
   ]
  },
  {
   "cell_type": "markdown",
   "metadata": {
    "hidden": true
   },
   "source": [
    "In this exercise you will learn how to search a file geodatabase for a raster dataset.\n",
    "1. ```import arcpy```\n",
    "2. Set the Environment Workspace to the arcpy_workshop.gdb file geodatabase ```arcpy.env.workspace = r\"<replace with your geodatabase path>\"```\n",
    "3. Create a datasets variable with a list of all the rasters within the arcpy_workshop.gdb file geodatabase ```datasets = arcpy.ListDatasets()\"```\n",
    "4. Use a wildcard search to filter the raster datasets that are returned. Specifically, only list the Kangaroo Island 2020 rasters. ```filtered_rasters = arcpy.ListDatasets(\"*2020*\", \"Raster\")```\n"
   ]
  },
  {
   "cell_type": "code",
   "execution_count": null,
   "metadata": {
    "hidden": true
   },
   "outputs": [],
   "source": [
    "# Enter Solution"
   ]
  },
  {
   "cell_type": "markdown",
   "metadata": {
    "hidden": true
   },
   "source": [
    "<details>\n",
    "<summary> <b> Reveal Answer </b> </summary>\n",
    "\n",
    "    import arcpy\n",
    "    #arcpy.env.workspace = r\"<replace with your geodatabase path>\"\n",
    "\n",
    "    datasets = arcpy.ListDatasets()\n",
    "    for dataset in datasets:\n",
    "        print(dataset)\n",
    "    \n",
    "    filtered_rasters = arcpy.ListDatasets(\"*2020*\", \"Raster\")\n",
    "    for raster in filtered_rasters:\n",
    "        print(raster)\n",
    "</details>"
   ]
  }
 ],
 "metadata": {
  "kernelspec": {
   "display_name": "ArcGISPro",
   "language": "Python",
   "name": "python3"
  },
  "language_info": {
   "file_extension": ".py",
   "name": "python",
   "version": "3"
  }
 },
 "nbformat": 4,
 "nbformat_minor": 2
}
