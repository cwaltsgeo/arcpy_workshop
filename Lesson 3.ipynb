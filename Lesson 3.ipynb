{
 "cells": [
  {
   "cell_type": "markdown",
   "metadata": {},
   "source": [
    "## Lesson 3: A Practical Guide to Arcpy"
   ]
  },
  {
   "cell_type": "markdown",
   "metadata": {
    "heading_collapsed": true
   },
   "source": [
    "### Exercise 1: Steps to Automate Any Task\n",
    "In this exercise you will begin taking steps to automate a common workflow using Arcpy. We'll walk through a common process that many image analysts perform: loading imagery into ArcGIS Pro, creating a mosaic dataset, then clipping the mosaic dataset to a Region of Interest."
   ]
  },
  {
   "cell_type": "markdown",
   "metadata": {
    "heading_collapsed": true,
    "hidden": true
   },
   "source": [
    "#### Create Mosaic Dataset"
   ]
  },
  {
   "cell_type": "markdown",
   "metadata": {
    "hidden": true
   },
   "source": [
    "1. Open the 'Create Mosaic Dataset' Geoprocessing Tool.\n",
    "2. Input the following parameters:\n",
    "    - **Output Location** - arcpy_workshop.gdb\n",
    "    - **Mosaic Dataset Name** - Kangaroo_Island_2019\n",
    "    - **Coordinate System** - WGS_1984_UTM_Zone_53S\n",
    "    - **Product Definition** - None\n",
    "3. WIthout running the tool, select the 'Copy Python Command' button and paste the results below\n",
    "*Note: Your file paths will be different than the solution*"
   ]
  },
  {
   "cell_type": "code",
   "execution_count": 1,
   "metadata": {
    "hidden": true
   },
   "outputs": [],
   "source": [
    "# Enter Solution"
   ]
  },
  {
   "cell_type": "markdown",
   "metadata": {
    "hidden": true
   },
   "source": [
    "<details>\n",
    "<summary> <b> Reveal Answer </b> </summary>\n",
    "\n",
    "    arcpy.management.CreateMosaicDataset(\n",
    "        in_workspace=r\"C:\\Users\\col12422\\Documents\\ArcGIS\\Projects\\Arcpy Workshop\\Arcpy Workshop.gdb\",\n",
    "        in_mosaicdataset_name=\"Kangaroo_Island_2019\",\n",
    "        coordinate_system='PROJCS[\"WGS_1984_UTM_Zone_53S\",GEOGCS[\"GCS_WGS_1984\",DATUM[\"D_WGS_1984\",SPHEROID[\"WGS_1984\",6378137.0,298.257223563]],PRIMEM[\"Greenwich\",0.0],UNIT[\"Degree\",0.0174532925199433]],PROJECTION[\"Transverse_Mercator\"],PARAMETER[\"False_Easting\",500000.0],PARAMETER[\"False_Northing\",10000000.0],PARAMETER[\"Central_Meridian\",135.0],PARAMETER[\"Scale_Factor\",0.9996],PARAMETER[\"Latitude_Of_Origin\",0.0],UNIT[\"Meter\",1.0]]',\n",
    "        num_bands=None,\n",
    "        pixel_type=\"\",\n",
    "        product_definition=\"NONE\",\n",
    "        product_band_definitions=None\n",
    "    )\n",
    "</details>"
   ]
  },
  {
   "cell_type": "markdown",
   "metadata": {
    "heading_collapsed": true,
    "hidden": true
   },
   "source": [
    "#### Add Rasters to Mosaic Dataset"
   ]
  },
  {
   "cell_type": "markdown",
   "metadata": {
    "hidden": true
   },
   "source": [
    "1. Open the 'Add Rasters to Mosaic Dataset' Geoprocessing Tool.\n",
    "2. Input the following parameters:\n",
    "    - **Mosaic Dataset** - Kangaroo_Island_2019\n",
    "    - **Raster Type** - Raster Dataset\n",
    "    - **Processing Templates** - Default\n",
    "    - **Input Data** - File\n",
    "        - *Browse* -> Select Kangaroo_Island_2019 A & B (Located in Arcpy Workshop.gdb)\n",
    "    - **Raster Processing** - Check the boxes for 'Calculate Statistics' & 'Build Raster Pyramids'\n",
    "3. WIthout running the tool, select the 'Copy Python Command' button and paste the results below\n",
    "*Note: Your file paths will be different than the solution*"
   ]
  },
  {
   "cell_type": "code",
   "execution_count": 16,
   "metadata": {
    "hidden": true
   },
   "outputs": [],
   "source": [
    "# Enter Solution"
   ]
  },
  {
   "cell_type": "markdown",
   "metadata": {
    "hidden": true
   },
   "source": [
    "<details>\n",
    "<summary> <b> Reveal Answer </b> </summary>\n",
    "\n",
    "    arcpy.management.AddRastersToMosaicDataset(\n",
    "        in_mosaic_dataset=\"Kangaroo_Island_2019\",\n",
    "        raster_type=\"Raster Dataset\",\n",
    "        input_path=r\"'C:\\Users\\col12422\\Documents\\ArcGIS\\Projects\\Arcpy Workshop\\Arcpy Workshop.gdb\\Kangaroo_Island_2019A';'C:\\Users\\col12422\\Documents\\ArcGIS\\Projects\\Arcpy Workshop\\Arcpy Workshop.gdb\\Kangaroo_Island_2019B'\",\n",
    "        update_cellsize_ranges=\"UPDATE_CELL_SIZES\",\n",
    "        update_boundary=\"UPDATE_BOUNDARY\",\n",
    "        update_overviews=\"NO_OVERVIEWS\",\n",
    "        maximum_pyramid_levels=None,\n",
    "        maximum_cell_size=0,\n",
    "        minimum_dimension=1500,\n",
    "        spatial_reference=None,\n",
    "        filter=\"\",\n",
    "        sub_folder=\"SUBFOLDERS\",\n",
    "        duplicate_items_action=\"ALLOW_DUPLICATES\",\n",
    "        build_pyramids=\"BUILD_PYRAMIDS\",\n",
    "        calculate_statistics=\"CALCULATE_STATISTICS\",\n",
    "        build_thumbnails=\"NO_THUMBNAILS\",\n",
    "        operation_description=\"\",\n",
    "        force_spatial_reference=\"NO_FORCE_SPATIAL_REFERENCE\",\n",
    "        estimate_statistics=\"ESTIMATE_STATISTICS\",\n",
    "        aux_inputs=None,\n",
    "        enable_pixel_cache=\"NO_PIXEL_CACHE\",\n",
    "        cache_location=r\"C:\\Users\\col12422\\AppData\\Local\\Temp\\13\\ArcGISProTemp15064\\Kangaroo_Island_2019\"\n",
    "    )\n",
    "</details>"
   ]
  },
  {
   "cell_type": "markdown",
   "metadata": {
    "heading_collapsed": true,
    "hidden": true
   },
   "source": [
    "#### Mask Raster to ROI"
   ]
  },
  {
   "cell_type": "markdown",
   "metadata": {
    "hidden": true
   },
   "source": [
    "1. Open the 'Extract by Mask' Geoprocessing Tool.\n",
    "2. Input the following parameters:\n",
    "    - **Input Raster** - Kangaroo_Island_2019\n",
    "    - **Input Raster or Feature Mask Data** - Kangaroo_Island\n",
    "    - **Output Raster** - Kangaroo_Island_2019_Masked\n",
    "    - **Extraction Area** - Inside\n",
    "3. WIthout running the tool, select the 'Copy Python Command' button and paste the results below\n",
    "*Note: Your file paths will be different than the solution*"
   ]
  },
  {
   "cell_type": "code",
   "execution_count": 17,
   "metadata": {
    "hidden": true
   },
   "outputs": [],
   "source": [
    "# Enter Solution"
   ]
  },
  {
   "cell_type": "markdown",
   "metadata": {
    "hidden": true
   },
   "source": [
    "<details>\n",
    "<summary> <b> Reveal Answer </b> </summary>\n",
    "\n",
    "    with arcpy.EnvManager(scratchWorkspace=r\"C:\\Users\\col12422\\Documents\\ArcGIS\\Projects\\Arcpy Workshop\\Arcpy Workshop.gdb\"):\n",
    "        masked_raster = arcpy.sa.ExtractByMask(\n",
    "            in_raster=\"Kangaroo_Island_2019\",\n",
    "            in_mask_data=\"Kangaroo_Island\",\n",
    "            extraction_area=\"INSIDE\",\n",
    "            analysis_extent='637977.776913391 6003103.86212958 784131.326170237 6063647.6465892 PROJCS[\"WGS_1984_UTM_Zone_53S\",GEOGCS[\"GCS_WGS_1984\",DATUM[\"D_WGS_1984\",SPHEROID[\"WGS_1984\",6378137.0,298.257223563]],PRIMEM[\"Greenwich\",0.0],UNIT[\"Degree\",0.0174532925199433]],PROJECTION[\"Transverse_Mercator\"],PARAMETER[\"False_Easting\",500000.0],PARAMETER[\"False_Northing\",10000000.0],PARAMETER[\"Central_Meridian\",135.0],PARAMETER[\"Scale_Factor\",0.9996],PARAMETER[\"Latitude_Of_Origin\",0.0],UNIT[\"Meter\",1.0]]'\n",
    "        )\n",
    "        masked_raster.save(r\"C:\\Users\\col12422\\Documents\\ArcGIS\\Projects\\Arcpy Workshop\\Arcpy Workshop.gdb\\Kangaroo_Island_2019_Masked\")\n",
    "</details>"
   ]
  },
  {
   "cell_type": "markdown",
   "metadata": {
    "heading_collapsed": true
   },
   "source": [
    "### Exercise 2: Thinking Ahead\n",
    "In the previous exercise, we produced a repeatable workflow to mask Sentinel-2 imagery on Kangaroo Island. The 'Copy Python Command' tool is a great starting point for creating repeatable workflows on my own machine, but it has some flaws. Most notably, consider what would happen if trying to run this Notebook on another machine or with with different input rasters? Let's explore how we can make this code 'better' by using relative file paths and inputs. We'll recreate this workflow for Sentinel-2 imagery from 2020."
   ]
  },
  {
   "cell_type": "markdown",
   "metadata": {
    "hidden": true
   },
   "source": [
    "**arcpy.env.workspace** - Arcpy's method for identifying the project's workspace. The default workspace environment for every project is its default file geodatabase, in this case arcpy_workshop.gdb"
   ]
  },
  {
   "cell_type": "code",
   "execution_count": 99,
   "metadata": {
    "hidden": true
   },
   "outputs": [
    {
     "data": {
      "text/plain": [
       "'C:\\\\Users\\\\col12422\\\\Documents\\\\ArcGIS\\\\Projects\\\\Arcpy Workshop\\\\Arcpy Workshop.gdb'"
      ]
     },
     "execution_count": 99,
     "metadata": {},
     "output_type": "execute_result"
    }
   ],
   "source": [
    "arcpy.env.workspace"
   ]
  },
  {
   "cell_type": "markdown",
   "metadata": {
    "hidden": true
   },
   "source": [
    "**os.path.join** - The os module is part of the Python standard library. os.path.join is a helpful way for joining filepaths to files in an os \"safe\" way."
   ]
  },
  {
   "cell_type": "code",
   "execution_count": 100,
   "metadata": {
    "hidden": true
   },
   "outputs": [
    {
     "data": {
      "text/plain": [
       "'C:\\\\Users\\\\col12422\\\\Documents\\\\ArcGIS\\\\Projects\\\\Arcpy Workshop\\\\Arcpy Workshop.gdb\\\\example.txt'"
      ]
     },
     "execution_count": 100,
     "metadata": {},
     "output_type": "execute_result"
    }
   ],
   "source": [
    "import os\n",
    "os.path.join(arcpy.env.workspace, \"example.txt\")"
   ]
  },
  {
   "cell_type": "markdown",
   "metadata": {
    "heading_collapsed": true,
    "hidden": true
   },
   "source": [
    "#### Global Variables"
   ]
  },
  {
   "cell_type": "markdown",
   "metadata": {
    "hidden": true
   },
   "source": [
    "1. Use **arcpy.env.workspace** to create a workspace variable of the project's default location ```WORKSPACE = arcpy.env.workspace```\n",
    "2. Create a mask variable of the Kangaroo Island boundary feature class ```MASK = 'Kangaroo_Island'```\n",
    "3. Create a variable to name the mosaic dataset ```MOSAIC_DATASET_NAME = 'Kangaroo_Island_2020'```\n",
    "4. Use **os.path.join** to create a mosaic dataset path variable from the project's workspace and the mosaic dataset name ```MOSAIC_DATASET_PATH = os.path.join(WORKSPACE, MOSAIC_DATASET_NAME)```\n",
    "5. Use **os.path.join** to create two variables, one for raster input A, and the other for raster input B <br> ```INPUT_RASTER_A = os.path.join(WORKSPACE, MOSAIC_DATASET_NAME + 'A')``` <br> ```INPUT_RASTER_B = os.path.join(WORKSPACE, MOSAIC_DATASET_NAME + 'B')```"
   ]
  },
  {
   "cell_type": "code",
   "execution_count": 20,
   "metadata": {
    "hidden": true
   },
   "outputs": [],
   "source": [
    "# Enter Solution"
   ]
  },
  {
   "cell_type": "markdown",
   "metadata": {
    "hidden": true
   },
   "source": [
    "<details>\n",
    "<summary> <b> Reveal Answer </b> </summary>\n",
    "\n",
    "    WORKSPACE = arcpy.env.workspace\n",
    "\n",
    "    MASK = 'Kangaroo_Island'\n",
    "\n",
    "    MOSAIC_DATASET_NAME = 'Kangaroo_Island_2020'\n",
    "    MOSAIC_DATASET_PATH = os.path.join(WORKSPACE, MOSAIC_DATASET_NAME)\n",
    "\n",
    "    INPUT_RASTER_A = os.path.join(WORKSPACE, MOSAIC_DATASET_NAME + 'A')\n",
    "    INPUT_RASTER_B = os.path.join(WORKSPACE, MOSAIC_DATASET_NAME + 'B') \n",
    "</details>"
   ]
  },
  {
   "cell_type": "markdown",
   "metadata": {
    "heading_collapsed": true,
    "hidden": true
   },
   "source": [
    "#### Create Mosaic Dataset"
   ]
  },
  {
   "cell_type": "markdown",
   "metadata": {
    "hidden": true
   },
   "source": [
    "1. Input the variable for the workspace\n",
    "2. Input the variable for the mosaic dataset name"
   ]
  },
  {
   "cell_type": "code",
   "execution_count": null,
   "metadata": {
    "hidden": true
   },
   "outputs": [],
   "source": [
    "arcpy.management.CreateMosaicDataset(\n",
    "    in_workspace= #1,\n",
    "    in_mosaicdataset_name= #2,\n",
    "    coordinate_system='PROJCS[\"WGS_1984_UTM_Zone_53S\",GEOGCS[\"GCS_WGS_1984\",DATUM[\"D_WGS_1984\",SPHEROID[\"WGS_1984\",6378137.0,298.257223563]],PRIMEM[\"Greenwich\",0.0],UNIT[\"Degree\",0.0174532925199433]],PROJECTION[\"Transverse_Mercator\"],PARAMETER[\"False_Easting\",500000.0],PARAMETER[\"False_Northing\",10000000.0],PARAMETER[\"Central_Meridian\",135.0],PARAMETER[\"Scale_Factor\",0.9996],PARAMETER[\"Latitude_Of_Origin\",0.0],UNIT[\"Meter\",1.0]]',\n",
    "    num_bands=None,\n",
    "    pixel_type=\"\",\n",
    "    product_definition=\"NONE\",\n",
    "    product_band_definitions=None\n",
    ")"
   ]
  },
  {
   "cell_type": "markdown",
   "metadata": {
    "hidden": true
   },
   "source": [
    "<details>\n",
    "<summary> <b> Reveal Answer </b> </summary>\n",
    "\n",
    "    arcpy.management.CreateMosaicDataset(\n",
    "        in_workspace=WORKSPACE,\n",
    "        in_mosaicdataset_name=MOSAIC_DATASET_NAME,\n",
    "        coordinate_system='PROJCS[\"WGS_1984_UTM_Zone_53S\",GEOGCS[\"GCS_WGS_1984\",DATUM[\"D_WGS_1984\",SPHEROID[\"WGS_1984\",6378137.0,298.257223563]],PRIMEM[\"Greenwich\",0.0],UNIT[\"Degree\",0.0174532925199433]],PROJECTION[\"Transverse_Mercator\"],PARAMETER[\"False_Easting\",500000.0],PARAMETER[\"False_Northing\",10000000.0],PARAMETER[\"Central_Meridian\",135.0],PARAMETER[\"Scale_Factor\",0.9996],PARAMETER[\"Latitude_Of_Origin\",0.0],UNIT[\"Meter\",1.0]]',\n",
    "        num_bands=None,\n",
    "        pixel_type=\"\",\n",
    "        product_definition=\"NONE\",\n",
    "        product_band_definitions=None\n",
    "    )\n",
    "</details>"
   ]
  },
  {
   "cell_type": "markdown",
   "metadata": {
    "heading_collapsed": true,
    "hidden": true
   },
   "source": [
    "#### Add Rasters to Mosaic Dataset"
   ]
  },
  {
   "cell_type": "markdown",
   "metadata": {
    "hidden": true
   },
   "source": [
    "1. Input the variable for the mosaic dataset name\n",
    "2. Input the variable for input raster A\n",
    "3. Input the variable for input raster B"
   ]
  },
  {
   "cell_type": "code",
   "execution_count": null,
   "metadata": {
    "hidden": true
   },
   "outputs": [],
   "source": [
    "arcpy.management.AddRastersToMosaicDataset(\n",
    "    in_mosaic_dataset= #1,\n",
    "    raster_type=\"Raster Dataset\",\n",
    "    input_path=r\"'{0}';'{1}'\".format(#2, #3),\n",
    "    update_cellsize_ranges=\"UPDATE_CELL_SIZES\",\n",
    "    update_boundary=\"UPDATE_BOUNDARY\",\n",
    "    update_overviews=\"NO_OVERVIEWS\",\n",
    "    maximum_pyramid_levels=None,\n",
    "    maximum_cell_size=0,\n",
    "    minimum_dimension=1500,\n",
    "    spatial_reference=None,\n",
    "    filter=\"\",\n",
    "    sub_folder=\"SUBFOLDERS\",\n",
    "    duplicate_items_action=\"ALLOW_DUPLICATES\",\n",
    "    build_pyramids=\"BUILD_PYRAMIDS\",\n",
    "    calculate_statistics=\"CALCULATE_STATISTICS\",\n",
    "    build_thumbnails=\"NO_THUMBNAILS\",\n",
    "    operation_description=\"\",\n",
    "    force_spatial_reference=\"NO_FORCE_SPATIAL_REFERENCE\",\n",
    "    estimate_statistics=\"ESTIMATE_STATISTICS\",\n",
    "    aux_inputs=None,\n",
    "    enable_pixel_cache=\"NO_PIXEL_CACHE\",\n",
    ")"
   ]
  },
  {
   "cell_type": "markdown",
   "metadata": {
    "hidden": true
   },
   "source": [
    "<details>\n",
    "<summary> <b> Reveal Answer </b> </summary>\n",
    "\n",
    "    arcpy.management.AddRastersToMosaicDataset(\n",
    "        in_mosaic_dataset=MOSAIC_DATASET_NAME,\n",
    "        raster_type=\"Raster Dataset\",\n",
    "        input_path=r\"'{0}';'{1}'\".format(INPUT_RASTER_A, INPUT_RASTER_B),\n",
    "        update_cellsize_ranges=\"UPDATE_CELL_SIZES\",\n",
    "        update_boundary=\"UPDATE_BOUNDARY\",\n",
    "        update_overviews=\"NO_OVERVIEWS\",\n",
    "        maximum_pyramid_levels=None,\n",
    "        maximum_cell_size=0,\n",
    "        minimum_dimension=1500,\n",
    "        spatial_reference=None,\n",
    "        filter=\"\",\n",
    "        sub_folder=\"SUBFOLDERS\",\n",
    "        duplicate_items_action=\"ALLOW_DUPLICATES\",\n",
    "        build_pyramids=\"BUILD_PYRAMIDS\",\n",
    "        calculate_statistics=\"CALCULATE_STATISTICS\",\n",
    "        build_thumbnails=\"NO_THUMBNAILS\",\n",
    "        operation_description=\"\",\n",
    "        force_spatial_reference=\"NO_FORCE_SPATIAL_REFERENCE\",\n",
    "        estimate_statistics=\"ESTIMATE_STATISTICS\",\n",
    "        aux_inputs=None,\n",
    "        enable_pixel_cache=\"NO_PIXEL_CACHE\",\n",
    "    )\n",
    "</details>"
   ]
  },
  {
   "cell_type": "markdown",
   "metadata": {
    "heading_collapsed": true,
    "hidden": true
   },
   "source": [
    "#### Mask Raster to ROI"
   ]
  },
  {
   "cell_type": "markdown",
   "metadata": {
    "hidden": true
   },
   "source": [
    "1. Input the variable for the workspace\n",
    "2. Input the variable for the mosaic dataset name\n",
    "3. Input the variable for the mask\n",
    "4. Input the variable for the mosaic dataset name"
   ]
  },
  {
   "cell_type": "code",
   "execution_count": null,
   "metadata": {
    "hidden": true
   },
   "outputs": [],
   "source": [
    "with arcpy.EnvManager(scratchWorkspace= #1):\n",
    "    masked_raster = arcpy.sa.ExtractByMask(\n",
    "        in_raster= #2,\n",
    "        in_mask_data= #3,\n",
    "        extraction_area=\"INSIDE\",\n",
    "        analysis_extent='637977.776913391 6003103.86212958 784131.326170237 6063647.6465892 PROJCS[\"WGS_1984_UTM_Zone_53S\",GEOGCS[\"GCS_WGS_1984\",DATUM[\"D_WGS_1984\",SPHEROID[\"WGS_1984\",6378137.0,298.257223563]],PRIMEM[\"Greenwich\",0.0],UNIT[\"Degree\",0.0174532925199433]],PROJECTION[\"Transverse_Mercator\"],PARAMETER[\"False_Easting\",500000.0],PARAMETER[\"False_Northing\",10000000.0],PARAMETER[\"Central_Meridian\",135.0],PARAMETER[\"Scale_Factor\",0.9996],PARAMETER[\"Latitude_Of_Origin\",0.0],UNIT[\"Meter\",1.0]]'\n",
    "    )\n",
    "    masked_raster.save( #4 + \"_Masked\")"
   ]
  },
  {
   "cell_type": "markdown",
   "metadata": {
    "hidden": true
   },
   "source": [
    "<details>\n",
    "<summary> <b> Reveal Answer </b> </summary>\n",
    "\n",
    "    with arcpy.EnvManager(scratchWorkspace=WORKSPACE):\n",
    "        masked_raster = arcpy.sa.ExtractByMask(\n",
    "            in_raster=MOSAIC_DATASET_NAME,\n",
    "            in_mask_data=MASK,\n",
    "            extraction_area=\"INSIDE\",\n",
    "            analysis_extent='637977.776913391 6003103.86212958 784131.326170237 6063647.6465892 PROJCS[\"WGS_1984_UTM_Zone_53S\",GEOGCS[\"GCS_WGS_1984\",DATUM[\"D_WGS_1984\",SPHEROID[\"WGS_1984\",6378137.0,298.257223563]],PRIMEM[\"Greenwich\",0.0],UNIT[\"Degree\",0.0174532925199433]],PROJECTION[\"Transverse_Mercator\"],PARAMETER[\"False_Easting\",500000.0],PARAMETER[\"False_Northing\",10000000.0],PARAMETER[\"Central_Meridian\",135.0],PARAMETER[\"Scale_Factor\",0.9996],PARAMETER[\"Latitude_Of_Origin\",0.0],UNIT[\"Meter\",1.0]]'\n",
    "        )\n",
    "        masked_raster.save(MOSAIC_DATASET_NAME + \"_Masked\")\n",
    "</details>"
   ]
  }
 ],
 "metadata": {
  "kernelspec": {
   "display_name": "ArcGISPro",
   "language": "Python",
   "name": "python3"
  },
  "language_info": {
   "file_extension": ".py",
   "name": "python",
   "version": "3"
  }
 },
 "nbformat": 4,
 "nbformat_minor": 2
}
