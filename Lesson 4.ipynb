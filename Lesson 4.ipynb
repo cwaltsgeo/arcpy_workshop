{
 "cells": [
  {
   "cell_type": "markdown",
   "metadata": {},
   "source": [
    "## Lesson 4: Raster Analysis with ArcPy"
   ]
  },
  {
   "cell_type": "markdown",
   "metadata": {
    "heading_collapsed": true
   },
   "source": [
    "### Exercise 1: The Raster Object\n",
    "In this exercise you will begin exploring ArcPy's Raster Object. The Raster Object is a data structure specifically for viewing, analyzing, and creating rasters with Python. From this exercise, you'll learn how to create a Raster Object from a raster stored in a file geodatabase, explore its metadata, and then extract specific bands for further analysis."
   ]
  },
  {
   "cell_type": "code",
   "execution_count": null,
   "metadata": {
    "hidden": true
   },
   "outputs": [],
   "source": [
    "import arcpy"
   ]
  },
  {
   "cell_type": "code",
   "execution_count": null,
   "metadata": {
    "hidden": true
   },
   "outputs": [],
   "source": [
    "arcpy.env.workspace"
   ]
  },
  {
   "cell_type": "markdown",
   "metadata": {
    "heading_collapsed": true,
    "hidden": true
   },
   "source": [
    "#### Kangaroo Island 2019"
   ]
  },
  {
   "cell_type": "code",
   "execution_count": null,
   "metadata": {
    "hidden": true
   },
   "outputs": [],
   "source": [
    "kangaroo_2019 = arcpy.Raster(\"Kangaroo_Island_2019_Clip\")\n",
    "kangaroo_2019"
   ]
  },
  {
   "cell_type": "code",
   "execution_count": null,
   "metadata": {
    "hidden": true
   },
   "outputs": [],
   "source": [
    "arcpy.Describe(kangaroo_2019)"
   ]
  },
  {
   "cell_type": "code",
   "execution_count": null,
   "metadata": {
    "hidden": true
   },
   "outputs": [],
   "source": [
    "arcpy.env.addOutputsToMap = False\n",
    "result = arcpy.ia.ExtractBand(kangaroo_2019, [4, 3, 2, 8, 10])"
   ]
  },
  {
   "cell_type": "code",
   "execution_count": null,
   "metadata": {
    "hidden": true
   },
   "outputs": [],
   "source": [
    "truecolor_2019 = arcpy.Raster(result)\n",
    "truecolor_2019"
   ]
  },
  {
   "cell_type": "code",
   "execution_count": null,
   "metadata": {
    "hidden": true
   },
   "outputs": [],
   "source": [
    "arcpy.Describe(truecolor_2019)"
   ]
  },
  {
   "cell_type": "code",
   "execution_count": null,
   "metadata": {
    "hidden": true,
    "scrolled": false
   },
   "outputs": [],
   "source": [
    "arcpy.env.addOutputsToMap = True\n",
    "arcpy.MakeRasterLayer_management(truecolor_2019, \"TC_2019\")"
   ]
  },
  {
   "cell_type": "markdown",
   "metadata": {
    "heading_collapsed": true,
    "hidden": true
   },
   "source": [
    "#### Kangaroo Island 2020"
   ]
  },
  {
   "cell_type": "markdown",
   "metadata": {
    "hidden": true
   },
   "source": [
    "**Repeat the steps from Kangaroo Island 2019, and apply them to the Kangaroo Island 2020 raster.**"
   ]
  },
  {
   "cell_type": "markdown",
   "metadata": {
    "hidden": true
   },
   "source": [
    "Create a variable ```kangaroo_2020``` that contains the Raster Object of the Kangaroo_Island_2020_Clip raster ```arcpy.Raster(\"Kangaroo_Island_2020_Clip\")```\n",
    "<br> Display the raster in the Notebook."
   ]
  },
  {
   "cell_type": "code",
   "execution_count": null,
   "metadata": {
    "hidden": true
   },
   "outputs": [],
   "source": [
    "# Enter Solution"
   ]
  },
  {
   "cell_type": "markdown",
   "metadata": {
    "hidden": true
   },
   "source": [
    "<details>\n",
    "<summary> <b> Reveal Answer </b> </summary>\n",
    "\n",
    "    kangaroo_2020 = arcpy.Raster(\"Kangaroo_Island_2020_Clip\")\n",
    "    kangaroo_2020\n",
    "</details>"
   ]
  },
  {
   "cell_type": "markdown",
   "metadata": {
    "hidden": true
   },
   "source": [
    "Describe the Raster Object you just created."
   ]
  },
  {
   "cell_type": "code",
   "execution_count": null,
   "metadata": {
    "hidden": true
   },
   "outputs": [],
   "source": [
    "arcpy.Describe(kangaroo_2020)"
   ]
  },
  {
   "cell_type": "markdown",
   "metadata": {
    "hidden": true
   },
   "source": [
    "<details>\n",
    "<summary> <b> How many bands does this Raster Object contain? Tip: Use the bandCount property on the kangaroo_2020 Raster Object </b> </summary>\n",
    "\n",
    "10\n",
    "</details>"
   ]
  },
  {
   "cell_type": "markdown",
   "metadata": {
    "hidden": true
   },
   "source": [
    "<details>\n",
    "<summary> <b> What are the units of this Raster Object? Tip: Use the spatialReference property on the kangaroo_2020 Raster Object </b> </summary>\n",
    "\n",
    "Meters\n",
    "</details>"
   ]
  },
  {
   "cell_type": "markdown",
   "metadata": {
    "hidden": true
   },
   "source": [
    "Create a new Raster Object from the ```kangaroo_2020``` Raster Object that only contains the following bands:\n",
    "- Red\n",
    "- Green\n",
    "- Blue\n",
    "- Near-Infrared\n",
    "- Shortwave-Infrared\n",
    "\n",
    "<br> Create a variable ```result``` that uses the ```arcpy.ia.ExtractBand(raster, [band_list])``` tool to extract the bands."
   ]
  },
  {
   "cell_type": "code",
   "execution_count": null,
   "metadata": {
    "hidden": true
   },
   "outputs": [],
   "source": [
    "# Enter Solution"
   ]
  },
  {
   "cell_type": "markdown",
   "metadata": {
    "hidden": true
   },
   "source": [
    "<details>\n",
    "<summary> <b> Reveal Answer </b> </summary>\n",
    "\n",
    "    arcpy.env.addOutputsToMap = False\n",
    "    result = arcpy.ia.ExtractBand(kangaroo_2020, [4, 3, 2, 8, 10])\n",
    "</details>"
   ]
  },
  {
   "cell_type": "markdown",
   "metadata": {
    "hidden": true
   },
   "source": [
    "Create a variable ```truecolor_2020``` that contains the Raster Object of the result raster ```arcpy.Raster(\"result\")```\n",
    "<br> Display the raster in the Notebook."
   ]
  },
  {
   "cell_type": "code",
   "execution_count": null,
   "metadata": {
    "hidden": true
   },
   "outputs": [],
   "source": [
    "# Enter Solution"
   ]
  },
  {
   "cell_type": "markdown",
   "metadata": {
    "hidden": true
   },
   "source": [
    "<details>\n",
    "<summary> <b> Reveal Answer </b> </summary>\n",
    "\n",
    "    truecolor_2020 = arcpy.Raster(result)\n",
    "    truecolor_2020\n",
    "</details>"
   ]
  },
  {
   "cell_type": "markdown",
   "metadata": {
    "hidden": true
   },
   "source": [
    "<details>\n",
    "<summary> <b> Why is the resulting Raster Object a True Color image? </b> </summary>\n",
    "\n",
    "This rendering is due to the the specific order we extracted bands from the ```Extract Band``` tool, the first 3-bands are used to map the RGB renderer of the Raster Object. In this case, band 4 mapped to Red, band 3 mapped to Green, and band 2 mapped to Blue. Which is how Sentinel-2 imagery is rendered in True Color.\n",
    "</details>"
   ]
  },
  {
   "cell_type": "markdown",
   "metadata": {
    "hidden": true
   },
   "source": [
    "<details>\n",
    "<summary> <b> What band order could be used in the Extract Band tool to render a False Color image? </b> </summary>\n",
    "\n",
    "arcpy.ia.ExtractBand(kangaroo_2020, [```8, 4, 3```])\n",
    "</details>"
   ]
  },
  {
   "cell_type": "markdown",
   "metadata": {
    "hidden": true
   },
   "source": [
    "Describe the Raster Object you just created."
   ]
  },
  {
   "cell_type": "code",
   "execution_count": null,
   "metadata": {
    "hidden": true
   },
   "outputs": [],
   "source": [
    "arcpy.Describe(truecolor_2020)"
   ]
  },
  {
   "cell_type": "markdown",
   "metadata": {
    "hidden": true
   },
   "source": [
    "<details>\n",
    "<summary> <b> How many bands does this Raster Object contain? </b> </summary>\n",
    "\n",
    "5\n",
    "</details>"
   ]
  },
  {
   "cell_type": "markdown",
   "metadata": {
    "hidden": true
   },
   "source": [
    "<details>\n",
    "<summary> <b> Is this a temporary or permanent raster? </b> </summary>\n",
    "\n",
    "Temporary, this Raster Object is stored in a temporary directory and will be deleted once ArcGIS Pro is closed. In order to retain this Raster Object for future use, use the ```.save()``` method to save the raster locally.\n",
    "</details>"
   ]
  },
  {
   "cell_type": "markdown",
   "metadata": {
    "hidden": true
   },
   "source": [
    "Now then, add the Kangaroo Island True Color image from 2020 to the Map Pane. <br> \n",
    "First, change the ```arcpy.env.addOutputsToMap``` to ```True``` so that we can add it properly. <br>\n",
    "Next, add the ```truecolor_2020``` Raster Object to the Map Pane by using ```arcpy.MakeRasterLayer_management(raster, name)```"
   ]
  },
  {
   "cell_type": "code",
   "execution_count": null,
   "metadata": {
    "hidden": true
   },
   "outputs": [],
   "source": [
    "# Enter Solution"
   ]
  },
  {
   "cell_type": "markdown",
   "metadata": {
    "hidden": true
   },
   "source": [
    "<details>\n",
    "<summary> <b> Reveal Answer </b> </summary>\n",
    "\n",
    "    arcpy.env.addOutputsToMap = True\n",
    "    arcpy.MakeRasterLayer_management(truecolor_2020, \"TC_2020\")\n",
    "</details>"
   ]
  },
  {
   "cell_type": "markdown",
   "metadata": {
    "heading_collapsed": true
   },
   "source": [
    "### Exercise 2: Interoperability with NumPy\n",
    "In this exercise you will analyze wildfire damage on Kangaroo Island. First, you'll explore the basics of converting a Raster Object into a NumPy Array. Then, you'll calcuate the delta of the Normalized Burn Ratio from 2019 to 2020 to identify wildfire damage. And finally, you'll convert the NumPy Array back into a Raster Object for use in  ArcGIS Pro."
   ]
  },
  {
   "cell_type": "markdown",
   "metadata": {
    "hidden": true
   },
   "source": [
    "```arcpy.RasterToNumPyArray``` (**in_raster**, *lower_left_corner, n_cols, n_rows, nodata_to_value* )"
   ]
  },
  {
   "cell_type": "markdown",
   "metadata": {
    "hidden": true
   },
   "source": [
    "```arcpy.NumPyArrayToRaster``` ( **in_array**, *lower_left_corner, x_cell_size, y_cell_size, value_to_nodata, mdinfo* )"
   ]
  },
  {
   "cell_type": "code",
   "execution_count": null,
   "metadata": {
    "hidden": true
   },
   "outputs": [],
   "source": [
    "import os\n",
    "import numpy\n",
    "numpy.seterr(invalid='ignore')"
   ]
  },
  {
   "cell_type": "code",
   "execution_count": null,
   "metadata": {
    "hidden": true
   },
   "outputs": [],
   "source": [
    "arcpy.env.workspace"
   ]
  },
  {
   "cell_type": "code",
   "execution_count": null,
   "metadata": {
    "hidden": true
   },
   "outputs": [],
   "source": [
    "truecolor_2019"
   ]
  },
  {
   "cell_type": "code",
   "execution_count": null,
   "metadata": {
    "hidden": true
   },
   "outputs": [],
   "source": [
    "# We'll create Raster Objects of individual bands\n",
    "blue = arcpy.Raster(os.path.join(arcpy.env.workspace, \"Kangaroo_Island_2019_Clip/Band_2\"))\n",
    "blue"
   ]
  },
  {
   "cell_type": "code",
   "execution_count": null,
   "metadata": {
    "hidden": true
   },
   "outputs": [],
   "source": [
    "# Then, use the RasterToNumPyArray function to create NumPy Arrays from Raster Objects\n",
    "blue_array = arcpy.RasterToNumPyArray(blue, nodata_to_value=0).astype(float)\n",
    "blue_array"
   ]
  },
  {
   "cell_type": "code",
   "execution_count": null,
   "metadata": {
    "hidden": true,
    "scrolled": true
   },
   "outputs": [],
   "source": [
    "green = arcpy.Raster(os.path.join(arcpy.env.workspace, \"Kangaroo_Island_2019_Clip/Band_3\"))\n",
    "green"
   ]
  },
  {
   "cell_type": "code",
   "execution_count": null,
   "metadata": {
    "hidden": true
   },
   "outputs": [],
   "source": [
    "green_array = arcpy.RasterToNumPyArray(green, nodata_to_value=0).astype(float)\n",
    "green_array"
   ]
  },
  {
   "cell_type": "code",
   "execution_count": null,
   "metadata": {
    "hidden": true,
    "scrolled": true
   },
   "outputs": [],
   "source": [
    "red = arcpy.Raster(os.path.join(arcpy.env.workspace, \"Kangaroo_Island_2019_Clip/Band_4\"))\n",
    "red"
   ]
  },
  {
   "cell_type": "code",
   "execution_count": null,
   "metadata": {
    "hidden": true
   },
   "outputs": [],
   "source": [
    "red_array = arcpy.RasterToNumPyArray(red, nodata_to_value=0).astype(float)\n",
    "red_array"
   ]
  },
  {
   "cell_type": "code",
   "execution_count": null,
   "metadata": {
    "hidden": true,
    "scrolled": true
   },
   "outputs": [],
   "source": [
    "nir = arcpy.Raster(os.path.join(arcpy.env.workspace, \"Kangaroo_Island_2019_Clip/Band_8\"))\n",
    "nir"
   ]
  },
  {
   "cell_type": "code",
   "execution_count": null,
   "metadata": {
    "hidden": true
   },
   "outputs": [],
   "source": [
    "nir_array = arcpy.RasterToNumPyArray(nir, nodata_to_value=0).astype(float)\n",
    "nir_array"
   ]
  },
  {
   "cell_type": "code",
   "execution_count": null,
   "metadata": {
    "hidden": true
   },
   "outputs": [],
   "source": [
    "swir = arcpy.Raster(os.path.join(arcpy.env.workspace, \"Kangaroo_Island_2019_Clip/Band_10\"))\n",
    "swir"
   ]
  },
  {
   "cell_type": "code",
   "execution_count": null,
   "metadata": {
    "hidden": true,
    "scrolled": true
   },
   "outputs": [],
   "source": [
    "swir_array = arcpy.RasterToNumPyArray(swir, nodata_to_value=0).astype(float)\n",
    "swir_array"
   ]
  },
  {
   "cell_type": "markdown",
   "metadata": {
    "hidden": true
   },
   "source": [
    "#### The Normalized Burn Ratio"
   ]
  },
  {
   "cell_type": "markdown",
   "metadata": {
    "hidden": true
   },
   "source": [
    "The Normalized Burn Ratio (**NBR**) is an index that uses the differences in the way healthy green vegetation and burnt vegetation reflect light to find burnt area. The equation is defined below:\n",
    "$$NBR =\\dfrac{nir-swir}{nir+swir}$$ <br>\n",
    "We'll leverage the NumPy library to perform matrix artithmetic to calculate **NBR** for Kangaroo Island. <br><br>\n",
    "We can create a function to perform the subtraction, addition, and division of our arrays as seen here:"
   ]
  },
  {
   "cell_type": "markdown",
   "metadata": {
    "hidden": true
   },
   "source": [
    "$$ \n",
    "NBR_{2019} =\n",
    "\\frac{\\begin{bmatrix}\n",
    "0.43 & -1.34 \\\\\n",
    "1.33 & 0.59 & \\cdots\n",
    "\\end{bmatrix}\n",
    "-\n",
    "\\begin{bmatrix}\n",
    "-3.21 & 0.12 \\\\\n",
    "1.33 & -4.32 & \\cdots\n",
    "\\end{bmatrix}}{\\begin{bmatrix}\n",
    "0.43 & -1.34 \\\\\n",
    "1.33 & 0.59 & \\cdots\n",
    "\\end{bmatrix}\n",
    "+\n",
    "\\begin{bmatrix}\n",
    "-3.21 & 0.12 \\\\\n",
    "1.33 & -4.32 & \\cdots\n",
    "\\end{bmatrix}}\n",
    "$$"
   ]
  },
  {
   "cell_type": "markdown",
   "metadata": {
    "hidden": true
   },
   "source": [
    "$$ \n",
    "NBR_{2020} =\n",
    "\\frac{\\begin{bmatrix}\n",
    "3.53 & 0.32 \\\\\n",
    "4.55 & 3.76 & \\cdots\n",
    "\\end{bmatrix}\n",
    "-\n",
    "\\begin{bmatrix}\n",
    "6.31 & 10.99 \\\\\n",
    "44.73 & 8.39 & \\cdots\n",
    "\\end{bmatrix}}{\\begin{bmatrix}\n",
    "3.53 & 0.32 \\\\\n",
    "4.55 & 3.76 & \\cdots\n",
    "\\end{bmatrix}\n",
    "+\n",
    "\\begin{bmatrix}\n",
    "6.31 & 10.99 \\\\\n",
    "44.73 & 8.39 & \\cdots\n",
    "\\end{bmatrix}}\n",
    "$$"
   ]
  },
  {
   "cell_type": "code",
   "execution_count": null,
   "metadata": {
    "hidden": true
   },
   "outputs": [],
   "source": [
    "def nbr(nir, swir):\n",
    "    nbr_index = numpy.nan_to_num(numpy.divide((nir - swir), (nir + swir)))\n",
    "    return nbr_index"
   ]
  },
  {
   "cell_type": "markdown",
   "metadata": {
    "hidden": true
   },
   "source": [
    "With a function for calculating the **NBR** for our arrays, we now have a normalized way of comparing values from one year to another. We can find the delta from **NBR<sub>2019</sub>**, before the fire, to **NBR<sub>2020</sub>**, after the fire, to get a comparison of the wildfire damage! We'll use NumPy to subtract the**NBR<sub>2019</sub>** array from the **NBR<sub>2020</sub>** array to get our **NBR<sub>&Delta;</sub>** array."
   ]
  },
  {
   "cell_type": "markdown",
   "metadata": {
    "hidden": true
   },
   "source": [
    "$$ \n",
    "NBR_{\\Delta} = NBR_{2019} - NBR_{2020}\n",
    "$$"
   ]
  },
  {
   "cell_type": "code",
   "execution_count": null,
   "metadata": {
    "hidden": true
   },
   "outputs": [],
   "source": [
    "def delta_nbr(nbr_base, nbr_post):\n",
    "    d_nbr = numpy.subtract(nbr_base, nbr_post)\n",
    "    return d_nbr"
   ]
  },
  {
   "cell_type": "markdown",
   "metadata": {
    "hidden": true
   },
   "source": [
    "With the ```nbr``` and ```delta_nbr``` functions defined, it's now possible to repeatably calculate the **NBR<sub>&Delta;</sub>** for any given arrays. But to make our functions easy to use, let's also write out another function that accepts the base and post-fire rasters for our analysis."
   ]
  },
  {
   "cell_type": "code",
   "execution_count": null,
   "metadata": {
    "hidden": true
   },
   "outputs": [],
   "source": [
    "def kangaroo_fire_analysis(raster_base, raster_post):\n",
    "    nir_base = arcpy.RasterToNumPyArray(os.path.join(raster_base, \"Band_8\"), nodata_to_value=0).astype(float)\n",
    "    swir_base =  arcpy.RasterToNumPyArray(os.path.join(raster_base, \"Band_10\"), nodata_to_value=0).astype(float)\n",
    "    \n",
    "    nir_post = arcpy.RasterToNumPyArray(os.path.join(raster_post, \"Band_8\"), nodata_to_value=0).astype(float)\n",
    "    swir_post = arcpy.RasterToNumPyArray(os.path.join(raster_post, \"Band_10\"), nodata_to_value=0).astype(float)\n",
    "    \n",
    "    return delta_nbr(nbr(nir_base, swir_base), nbr(nir_post, swir_post))"
   ]
  },
  {
   "cell_type": "markdown",
   "metadata": {
    "hidden": true
   },
   "source": [
    "And to actually perform the fire analysis, just pass the base and post-fire rasters into the ```kangaroo_fire_analysis``` function."
   ]
  },
  {
   "cell_type": "code",
   "execution_count": null,
   "metadata": {
    "hidden": true
   },
   "outputs": [],
   "source": [
    "kangaroo_delta_nbr = kangaroo_fire_analysis(\"Kangaroo_Island_2019_Clip\", \"Kangaroo_Island_2020_Clip\")\n",
    "kangaroo_delta_nbr"
   ]
  },
  {
   "cell_type": "code",
   "execution_count": null,
   "metadata": {
    "hidden": true
   },
   "outputs": [],
   "source": [
    "kangaroo_delta_nbr.mean()"
   ]
  },
  {
   "cell_type": "code",
   "execution_count": null,
   "metadata": {
    "hidden": true
   },
   "outputs": [],
   "source": [
    "kangaroo_delta_nbr.max()"
   ]
  },
  {
   "cell_type": "code",
   "execution_count": null,
   "metadata": {
    "hidden": true
   },
   "outputs": [],
   "source": [
    "kangaroo_delta_nbr.min()"
   ]
  },
  {
   "cell_type": "markdown",
   "metadata": {
    "hidden": true
   },
   "source": [
    "To bring the NumPy Array back into ArcGIS Pro, we can use the ```arcpy.NumPyArrayToRaster()``` function."
   ]
  },
  {
   "cell_type": "code",
   "execution_count": null,
   "metadata": {
    "hidden": true
   },
   "outputs": [],
   "source": [
    "lower_left = arcpy.Point(kangaroo_2019.extent.XMin,kangaroo_2019.extent.YMin)\n",
    "cell_size = kangaroo_2019.meanCellWidth\n",
    "\n",
    "Delta_NBR = arcpy.NumPyArrayToRaster(kangaroo_delta_nbr, lower_left, cell_size, value_to_nodata = 0)\n",
    "Delta_NBR"
   ]
  },
  {
   "cell_type": "markdown",
   "metadata": {
    "hidden": true
   },
   "source": [
    "<details>\n",
    "<summary> <b> What's the significance of the lower_left parameter? </b> </summary>\n",
    "\n",
    "The lower_left parameter is a Point Object that georeferences the NumPy Array and gives it spatial context on the map.\n",
    "</details>"
   ]
  },
  {
   "cell_type": "markdown",
   "metadata": {
    "heading_collapsed": true,
    "hidden": true
   },
   "source": [
    "#### CHALLENGE: The Normalized Difference Vegetation Index"
   ]
  },
  {
   "cell_type": "markdown",
   "metadata": {
    "hidden": true
   },
   "source": [
    "The Normalized Difference Vegetation Index (**NDVI**) is an index that uses the differences in the way healthy green vegetation reflects light to determine vegetation health. The equation is defined below:\n",
    "$$NDVI =\\dfrac{nir-red}{nir+red}$$ <br>\n",
    "This index is strikingly similar to the **NBR** index. In fact, many indices follow the same exact equation pattern as **NBR** & **NDVI** (only changing the input bands). <br><br>\n",
    "**Taking from the code we wrote for the NBR<sub>&Delta;</sub> function, write a new series of equations that calculate NDVI<sub>&Delta;</sub>.**"
   ]
  },
  {
   "cell_type": "code",
   "execution_count": null,
   "metadata": {
    "hidden": true
   },
   "outputs": [],
   "source": [
    "# Enter Solution"
   ]
  },
  {
   "cell_type": "markdown",
   "metadata": {
    "hidden": true
   },
   "source": [
    "<details>\n",
    "<summary> <b> Reveal Answer </b> </summary>\n",
    "\n",
    "    import os\n",
    "    import arcpy\n",
    "    import numpy\n",
    "    numpy.seterr(invalid='ignore')\n",
    "\n",
    "    def ndvi(nir, red):\n",
    "        ndvi_index = numpy.nan_to_num(numpy.divide((nir - red), (nir + red)))\n",
    "        return ndvi_index\n",
    "\n",
    "    def delta_ndvi(ndvi_base, ndvi_post):\n",
    "        d_ndvi = numpy.subtract(ndvi_base, ndvi_post)\n",
    "        return d_ndvi\n",
    "\n",
    "    def kangaroo_ndvi_analysis(raster_base, raster_post):\n",
    "        nir_base = arcpy.RasterToNumPyArray(os.path.join(raster_base, \"Band_8\"), nodata_to_value=0).astype(float)\n",
    "        red_base =  arcpy.RasterToNumPyArray(os.path.join(raster_base, \"Band_4\"), nodata_to_value=0).astype(float)\n",
    "\n",
    "        nir_post = arcpy.RasterToNumPyArray(os.path.join(raster_post, \"Band_8\"), nodata_to_value=0).astype(float)\n",
    "        red_post = arcpy.RasterToNumPyArray(os.path.join(raster_post, \"Band_4\"), nodata_to_value=0).astype(float)\n",
    "\n",
    "        return delta_ndvi(ndvi(nir_base, red_base), ndvi(nir_post, red_post))\n",
    "\n",
    "    kangaroo_delta_ndvi = kangaroo_ndvi_analysis(\"Kangaroo_Island_2019_Clip\", \"Kangaroo_Island_2020_Clip\")\n",
    "\n",
    "    Delta_NDVI = arcpy.NumPyArrayToRaster(kangaroo_delta_ndvi, lower_left, cell_size, value_to_nodata = 0)\n",
    "    Delta_NDVI\n",
    "</details>"
   ]
  }
 ],
 "metadata": {
  "kernelspec": {
   "display_name": "ArcGISPro",
   "language": "Python",
   "name": "python3"
  },
  "language_info": {
   "file_extension": ".py",
   "name": "python",
   "version": "3"
  }
 },
 "nbformat": 4,
 "nbformat_minor": 2
}
